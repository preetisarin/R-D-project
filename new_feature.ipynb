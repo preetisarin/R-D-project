{
 "cells": [
  {
   "cell_type": "code",
   "execution_count": 1,
   "metadata": {},
   "outputs": [
    {
     "name": "stderr",
     "output_type": "stream",
     "text": [
      "C:\\Users\\49176\\AppData\\Local\\Programs\\Python\\Python39\\lib\\site-packages\\pydub\\utils.py:170: RuntimeWarning: Couldn't find ffmpeg or avconv - defaulting to ffmpeg, but may not work\n",
      "  warn(\"Couldn't find ffmpeg or avconv - defaulting to ffmpeg, but may not work\", RuntimeWarning)\n"
     ]
    }
   ],
   "source": [
    "from random import sample\n",
    "from pydub import AudioSegment\n",
    "import wave\n",
    "import pandas as pd\n",
    "import numpy as np\n",
    "import matplotlib.pyplot as plt\n",
    "import librosa as l\n",
    "import librosa.display as l1\n",
    "import scipy as sp\n",
    "import sklearn\n",
    "import math\n",
    "import csv"
   ]
  },
  {
   "cell_type": "code",
   "execution_count": 2,
   "metadata": {},
   "outputs": [],
   "source": [
    "audio_data=['0_1_2021_06_17_090407_Sound_Pa_SF0000002,0000.wav',\n",
    "                '0_2_2021_06_17_091517_Sound_Pa_SF0000002,0000.wav',\n",
    "                '0_3_2021_06_17_092721_Sound_Pa_SF0000002,0000.wav',\n",
    "                '0_4_2021_06_17_094050_Sound_Pa_SF0000002,0000.wav',\n",
    "                '0_5_2021_06_17_095438_Sound_Pa_SF0000002,0000.wav',\n",
    "                '0_6_2021_06_17_100733_Sound_Pa_SF0000002,0000.wav',\n",
    "                '0_7_2021_06_17_102035_Sound_Pa_SF0000002,0000.wav',\n",
    "                '0_8_2021_06_17_104047_Sound_Pa_SF0000002,0000.wav',\n",
    "                '0_9_2021_06_17_105536_Sound_Pa_SF0000002,0000.wav',\n",
    "                '0_10_2021_06_17_110845_Sound_Pa_SF0000002,0000.wav',\n",
    "                '0_11_2021_06_17_112933_Sound_Pa_SF0000002,0000.wav',\n",
    "                '0_12_2021_06_17_114920_Sound_Pa_SF0000002,0000.wav',\n",
    "                '0_13_2021_06_17_134557_Sound_Pa_SF0000002,0000.wav',\n",
    "                '0_14_2021_06_17_140043_Sound_Pa_SF0000002,0000.wav',\n",
    "                '0_15_2021_06_17_141528_Sound_Pa_SF0000002,0000.wav',\n",
    "                '0_16_2021_06_17_143005_Sound_Pa_SF0000002,0000.wav',\n",
    "                '0_17_2021_06_17_144821_Sound_Pa_SF0000002,0000.wav',\n",
    "                '0_18_2021_06_17_150224_Sound_Pa_SF0000002,0000.wav',\n",
    "                '0_19_2021_06_17_152121_Sound_Pa_SF0000002,0000.wav',\n",
    "                '0_20_2021_06_17_153606_Sound_Pa_SF0000002,0000.wav',\n",
    "                '0_21_2021_06_17_155609_Sound_Pa_SF0000002,0000.wav',\n",
    "                '1_1_2021_07_08_095523_Sound_Pa_SF0000002,0000.wav',\n",
    "                '1_2_2021_07_08_101934_Sound_Pa_SF0000002,0000.wav',\n",
    "                '1_3_2021_07_08_103512_Sound_Pa_SF0000002,0000.wav',\n",
    "                '1_4_2021_07_08_105101_Sound_Pa_SF0000002,0000.wav',\n",
    "                '1_5_2021_07_08_110551_Sound_Pa_SF0000002,0000.wav',\n",
    "                '1_6_2021_07_08_112530_Sound_Pa_SF0000002,0000.wav',\n",
    "                '1_7_2021_07_08_114025_Sound_Pa_SF0000002,0000.wav',\n",
    "                '1_8_2021_07_08_115537_Sound_Pa_SF0000002,0000.wav',\n",
    "                '1_9_2021_07_08_123951_Sound_Pa_SF0000002,0000.wav',\n",
    "                '1_10_2021_07_08_125653_Sound_Pa_SF0000002,0000.wav',\n",
    "                '1_11_2021_07_08_131059_Sound_Pa_SF0000002,0000.wav',\n",
    "                '1_12_2021_07_08_133004_Sound_Pa_SF0000002,0000.wav',\n",
    "                '1_13_2021_07_08_135216_Sound_Pa_SF0000002,0000.wav',\n",
    "                '1_14_2021_07_08_142154_Sound_Pa_SF0000002,0000.wav',\n",
    "                '1_15_2021_07_08_162545_Sound_Pa_SF0000002,0000.wav',\n",
    "                '1_16_2021_07_08_164415_Sound_Pa_SF0000002,0000.wav',\n",
    "                '1_17_2021_07_08_165931_Sound_Pa_SF0000002,0000.wav',\n",
    "                '1_18_2021_07_08_171513_Sound_Pa_SF0000002,0000.wav',\n",
    "                '1_19_2021_07_08_173507_Sound_Pa_SF0000002,0000.wav',\n",
    "                '1_20_2021_07_08_175732_Sound_Pa_SF0000002,0000.wav',\n",
    "                '2_1_2021_08_05_120829_Sound_Pa_SF0000002,0000.wav',\n",
    "                '2_2_2021_08_05_123145_Sound_Pa_SF0000002,0000.wav',\n",
    "                '2_3_2021_08_05_124736_Sound_Pa_SF0000002,0000.wav',\n",
    "                '2_4_2021_08_05_130406_Sound_Pa_SF0000002,0000.wav',\n",
    "                '2_5_2021_08_05_132001_Sound_Pa_SF0000002,0000.wav',\n",
    "                '2_6_2021_08_05_133527_Sound_Pa_SF0000002,0000.wav',\n",
    "                '2_7_2021_08_05_135737_Sound_Pa_SF0000002,0000.wav',\n",
    "                '2_8_2021_08_05_142807_Sound_Pa_SF0000002,0000.wav',\n",
    "                '2_9_2021_08_05_144359_Sound_Pa_SF0000002,0000.wav',\n",
    "                '2_10_2021_08_05_171531_Sound_Pa_SF0000002,0000.wav',\n",
    "                '2_11_2021_08_05_173121_Sound_Pa_SF0000004,0000.wav',\n",
    "                '2_12_2021_08_19_122626_Sound_Pa_SF0000002,0000.wav',\n",
    "                '2_13_2021_08_19_124757_Sound_Pa_SF0000002,0000.wav',\n",
    "                '2_14_2021_08_19_130234_Sound_Pa_SF0000002,0000.wav',\n",
    "                '2_15_2021_08_19_131846_Sound_Pa_SF0000002,0000.wav',\n",
    "                '2_16_2021_08_19_133359_Sound_Pa_SF0000002,0000.wav',\n",
    "                '2_17_2021_08_19_135158_Sound_Pa_SF0000002,0000.wav',\n",
    "                '2_18_2021_08_19_143917_Sound_Pa_SF0000002,0000.wav',\n",
    "                '2_19_2021_08_19_152241_Sound_Pa_SF0000002,0000.wav',\n",
    "                '2_20_2021_08_19_153903_Sound_Pa_SF0000002,0000.wav',\n",
    "                '2_21_2021_08_19_155502_Sound_Pa_SF0000002,0000.wav',\n",
    "                '3_1_2021_08_12_115910_Sound_Pa_SF0000002,0000.wav',\n",
    "                '3_2_2021_08_12_125423_Sound_Pa_SF0000002,0000.wav',\n",
    "                '3_3_2021_08_12_131721_Sound_Pa_SF0000002,0000.wav',\n",
    "                '3_4_2021_08_12_133432_Sound_Pa_SF0000002,0000.wav',\n",
    "                '3_5_2021_08_12_134820_Sound_Pa_SF0000002,0000.wav',\n",
    "                '3_6_2021_08_12_140730_Sound_Pa_SF0000002,0000.wav',\n",
    "                '3_7_2021_08_12_141936_Sound_Pa_SF0000002,0000.wav',\n",
    "                '3_8_2021_08_12_143435_Sound_Pa_SF0000002,0000.wav',\n",
    "                '3_9_2021_08_12_145047_Sound_Pa_SF0000002,0000.wav',\n",
    "                '3_10_2021_08_12_161050_Sound_Pa_SF0000002,0000.wav',\n",
    "                '3_14_2021_08_20_082149_Sound_Pa_SF0000002,0000.wav',\n",
    "                '3_15_2021_08_20_083423_Sound_Pa_SF0000002,0000.wav',\n",
    "                '3_16_2021_08_20_084849_Sound_Pa_SF0000002,0000.wav',\n",
    "                '3_17_2021_08_20_090422_Sound_Pa_SF0000002,0000.wav',\n",
    "                '3_18_2021_08_20_091712_Sound_Pa_SF0000002,0000.wav',\n",
    "                '3_19_2021_08_20_094229_Sound_Pa_SF0000002,0000.wav',\n",
    "                '3_20_2021_08_20_095638_Sound_Pa_SF0000002,0000.wav',\n",
    "                '3_21_2021_08_20_101033_Sound_Pa_SF0000002,0000.wav',\n",
    "                '3_22_2021_08_20_102553_Sound_Pa_SF0000002,0000.wav',\n",
    "                '3_23_2021_08_20_104304_Sound_Pa_SF0000002,0000.wav']"
   ]
  },
  {
   "cell_type": "code",
   "execution_count": 3,
   "metadata": {},
   "outputs": [],
   "source": [
    "def generic_features(audio_file):\n",
    "    '''\n",
    "    Extract Audio generic features using pydub\n",
    "    Input: file path\n",
    "    Output:  \n",
    "    Channels: number of channels: 1 for mono, 2 for stereo audio\n",
    "    Sample width: number of bytes per sample; 1 means 8 bits, 2 means 16 bit\n",
    "    Frame rate/ sample rate: frequency of sample used (in hertz)\n",
    "    Frame width: number of bytes for each frame. one fram e contains a sample of each channel\n",
    "    length: audio file length in millisecond\n",
    "    frame count: number of frames from sample\n",
    "    Intensity: loudness in dBFS (dB relative to maximum possible loudness.)\n",
    "    '''\n",
    "    audio_segment = AudioSegment.from_file(audio_file)\n",
    "    # Returns the loudness of the AudioSegment in dBFS (db relative to the maximum possible loudness). \n",
    "    #print(\"dBFS\", audio_segment.dBFS)\n",
    "    # Number of channels in this audio segment (1 means mono, 2 means stereo)\n",
    "    # print(\"Channels\", audio_segment.channels)\n",
    "    # # Number of bytes in each sample (1 means 8 bit, 2 means 16 bit, etc)\n",
    "    # print(\"sample_width (no of bytes each sample\",audio_segment.sample_width)\n",
    "    # # Frame_rate\n",
    "    # print(\"Frame_rate\", audio_segment.frame_rate)\n",
    "    # # root mean square: A measure of loudness.\n",
    "    # print(\"RMS\",audio_segment.rms)\n",
    "    # # Max: The highest amplitude of any sample in the AudioSegment.\n",
    "    # print(\"Max\", audio_segment.max)\n",
    "    # # Max_amplitude: The highest amplitude of any sample in the AudioSegment\n",
    "    # print(\"Max_amplitude\", audio_segment.max_dBFS)\n",
    "    # # duration in seconds\n",
    "    # print(\"Duration\", audio_segment.duration_seconds)\n",
    "    # # frame_count: Returns the number of frames in the AudioSegment\n",
    "    # print(\"Frame_count\", audio_segment.frame_count())\n",
    "    # # frame width\n",
    "    # print(\"frame width\", audio_segment.frame_width)\n",
    "    # #length\n",
    "    # print(\"len\", len(audio_segment))\n",
    "    l=[audio_segment.channels, audio_segment.sample_width, audio_segment.frame_rate,\n",
    "        audio_segment.frame_width,len(audio_segment),audio_segment.frame_count(),audio_segment.dBFS]\n",
    "    \n",
    "    return l"
   ]
  },
  {
   "cell_type": "code",
   "execution_count": 4,
   "metadata": {},
   "outputs": [],
   "source": [
    "def energy(signal):\n",
    "    \"\"\"Computes signal energy of frame\"\"\"\n",
    "    return np.sum(signal ** 2) / np.float64(len(signal))"
   ]
  },
  {
   "cell_type": "code",
   "execution_count": 5,
   "metadata": {},
   "outputs": [],
   "source": [
    "frame_size=1024\n",
    "hop_length=512"
   ]
  },
  {
   "cell_type": "code",
   "execution_count": 6,
   "metadata": {},
   "outputs": [],
   "source": [
    "combined_list=[]\n",
    "col_names=['File_name','Channel','Sample_width','Frame_rate','Frame_width','Duration (ms)','Frame_count','Intensity',\n",
    "            'Energy','Zero_crossing_rate','Root Mean Square','Spectral Centroid','Spectral Bandwidth', 'MFCC',\n",
    "            'Maximum Peak magnitude','Max Frequency wrt to Peak']\n",
    "\n",
    "\n",
    "for file in audio_data:\n",
    "    file_path='Data/'+file\n",
    "    feature_list=generic_features(file_path)\n",
    "    \n",
    "    y,sr=l.load(file_path)\n",
    "\n",
    "    feature_list.append(energy(y))\n",
    "    \n",
    "    zcr=l.feature.zero_crossing_rate(y=y,frame_length=frame_size,hop_length=hop_length)[0]\n",
    "    feature_list.append(np.mean(zcr))\n",
    "    \n",
    "    rms=l.feature.rms(y=y,frame_length=frame_size,hop_length=hop_length)[0]\n",
    "    feature_list.append(np.mean(rms))\n",
    "    \n",
    "    sc=l.feature.spectral_centroid(y=y, sr=sr,n_fft=frame_size,hop_length=hop_length)[0]\n",
    "    feature_list.append(np.mean(sc))\n",
    "\n",
    "    sb=l.feature.spectral_bandwidth(y=y, sr=sr,n_fft=frame_size,hop_length=hop_length)[0] \n",
    "    feature_list.append(np.mean(sb))\n",
    "\n",
    "    mfcc=l.feature.mfcc(y=y,sr=sr)\n",
    "    feature_list.append(np.mean(mfcc))\n",
    "\n",
    "    ft=np.fft.fft(y)\n",
    "\n",
    "    freqs = np.fft.fftfreq(len(y))\n",
    "    \n",
    "    # Find the peak in the coefficients\n",
    "    idx = np.argmax(np.abs(y))\n",
    "    freq = freqs[idx]\n",
    "    freq_in_hertz = abs(freq * sr)\n",
    "    feature_list.append(freqs.min())\n",
    "    feature_list.append(freqs.max())\n",
    "    feature_list.append(freq_in_hertz)\n",
    "\n",
    "    feature_list.insert(0,file)\n",
    "    combined_list.append(feature_list)\n",
    "   \n",
    "    "
   ]
  },
  {
   "cell_type": "code",
   "execution_count": 7,
   "metadata": {},
   "outputs": [],
   "source": [
    "with open('CSV/feature.csv','w') as f:\n",
    "    writer = csv.writer(f)\n",
    "    writer.writerow(col_names)\n",
    "    writer.writerows(combined_list)"
   ]
  },
  {
   "cell_type": "code",
   "execution_count": 8,
   "metadata": {},
   "outputs": [],
   "source": [
    "import pywt"
   ]
  },
  {
   "cell_type": "code",
   "execution_count": 9,
   "metadata": {},
   "outputs": [
    {
     "name": "stdout",
     "output_type": "stream",
     "text": [
      "Shape of wavelet transform:  (63, 1825740)\n"
     ]
    }
   ],
   "source": [
    "data='Data/0_1_2021_06_17_090407_Sound_Pa_SF0000002,0000.wav'\n",
    "y,sr=l.load(data)\n",
    "wavelet = 'morl' # wavelet type: morlet\n",
    "#sr = 8000 # sampling frequency: 8KHz\n",
    "#widths = len(y) \n",
    "widths = np.arange(1, 64) # scales for morlet wavelet \n",
    "#print(\"These are the scales that we are using: \", widths)\n",
    "dt = 1/sr # timestep difference\n",
    "\n",
    "frequencies = pywt.scale2frequency(wavelet, widths) / dt # Get frequencies corresponding to scales\n",
    "#print(\"These are the frequencies that re associated with the scales: \", frequencies)\n",
    "\n",
    "# Compute continuous wavelet transform of the audio numpy array\n",
    "wavelet_coeffs, freqs = pywt.cwt(y, widths, wavelet = wavelet, sampling_period=dt)\n",
    "print(\"Shape of wavelet transform: \", wavelet_coeffs.shape)"
   ]
  },
  {
   "cell_type": "code",
   "execution_count": 10,
   "metadata": {},
   "outputs": [
    {
     "data": {
      "image/png": "[encoded data removed]",
      "text/plain": [
       "<Figure size 432x288 with 1 Axes>"
      ]
     },
     "metadata": {
      "needs_background": "light"
     },
     "output_type": "display_data"
    }
   ],
   "source": [
    "# Display the scalogram. We will display a small part of scalogram because the length of scalogram is too big.\n",
    "plt.imshow(wavelet_coeffs, cmap='coolwarm')\n",
    "plt.xlabel(\"Time\")\n",
    "plt.ylabel(\"Scales\")\n",
    "plt.yticks(widths[0::11])\n",
    "plt.title(\"Scalogram\")\n",
    "plt.show()"
   ]
  },
  {
   "cell_type": "code",
   "execution_count": null,
   "metadata": {},
   "outputs": [],
   "source": []
  }
 ],
 "metadata": {
  "interpreter": {
   "hash": "d040bbbcc484f46b37e6c81604137f8cb878898d9370d8707ac1f047faacd19e"
  },
  "kernelspec": {
   "display_name": "Python 3.9.6 64-bit",
   "language": "python",
   "name": "python3"
  },
  "language_info": {
   "codemirror_mode": {
    "name": "ipython",
    "version": 3
   },
   "file_extension": ".py",
   "mimetype": "text/x-python",
   "name": "python",
   "nbconvert_exporter": "python",
   "pygments_lexer": "ipython3",
   "version": "3.9.6"
  },
  "orig_nbformat": 4
 },
 "nbformat": 4,
 "nbformat_minor": 2
}
