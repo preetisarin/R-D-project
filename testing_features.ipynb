{
 "cells": [
  {
   "cell_type": "code",
   "execution_count": 1,
   "metadata": {},
   "outputs": [
    {
     "name": "stderr",
     "output_type": "stream",
     "text": [
      "C:\\Users\\anand\\AppData\\Local\\Programs\\Python\\Python39\\lib\\site-packages\\pydub\\utils.py:170: RuntimeWarning: Couldn't find ffmpeg or avconv - defaulting to ffmpeg, but may not work\n",
      "  warn(\"Couldn't find ffmpeg or avconv - defaulting to ffmpeg, but may not work\", RuntimeWarning)\n"
     ]
    }
   ],
   "source": [
    "from random import sample\n",
    "from pydub import AudioSegment\n",
    "import wave\n",
    "import pandas as pd\n",
    "import numpy as np\n",
    "import matplotlib.pyplot as plt\n",
    "import librosa as l\n",
    "import librosa.display as l1\n",
    "import scipy as sp\n",
    "import sklearn\n",
    "import math\n",
    "import csv"
   ]
  },
  {
   "cell_type": "code",
   "execution_count": 41,
   "metadata": {},
   "outputs": [],
   "source": [
    "audio_data=['0_1_2021_06_17_090407_Sound_Pa_SF0000002,0000.wav',\n",
    "                '0_2_2021_06_17_091517_Sound_Pa_SF0000002,0000.wav',\n",
    "                '0_3_2021_06_17_092721_Sound_Pa_SF0000002,0000.wav',\n",
    "                '0_4_2021_06_17_094050_Sound_Pa_SF0000002,0000.wav',\n",
    "                '0_5_2021_06_17_095438_Sound_Pa_SF0000002,0000.wav',\n",
    "                '0_6_2021_06_17_100733_Sound_Pa_SF0000002,0000.wav',\n",
    "                '0_7_2021_06_17_102035_Sound_Pa_SF0000002,0000.wav',\n",
    "                '0_8_2021_06_17_104047_Sound_Pa_SF0000002,0000.wav',\n",
    "                '0_9_2021_06_17_105536_Sound_Pa_SF0000002,0000.wav',\n",
    "                '0_10_2021_06_17_110845_Sound_Pa_SF0000002,0000.wav',\n",
    "                '0_11_2021_06_17_112933_Sound_Pa_SF0000002,0000.wav',\n",
    "                '0_12_2021_06_17_114920_Sound_Pa_SF0000002,0000.wav',\n",
    "                '0_13_2021_06_17_134557_Sound_Pa_SF0000002,0000.wav',\n",
    "                '0_14_2021_06_17_140043_Sound_Pa_SF0000002,0000.wav',\n",
    "                '0_15_2021_06_17_141528_Sound_Pa_SF0000002,0000.wav',\n",
    "                '0_16_2021_06_17_143005_Sound_Pa_SF0000002,0000.wav',\n",
    "                '0_17_2021_06_17_144821_Sound_Pa_SF0000002,0000.wav',\n",
    "                '0_18_2021_06_17_150224_Sound_Pa_SF0000002,0000.wav',\n",
    "                '0_19_2021_06_17_152121_Sound_Pa_SF0000002,0000.wav',\n",
    "                '0_20_2021_06_17_153606_Sound_Pa_SF0000002,0000.wav',\n",
    "                '0_21_2021_06_17_155609_Sound_Pa_SF0000002,0000.wav',\n",
    "                '1_1_2021_07_08_095523_Sound_Pa_SF0000002,0000.wav',\n",
    "                '1_2_2021_07_08_101934_Sound_Pa_SF0000002,0000.wav',\n",
    "                '1_3_2021_07_08_103512_Sound_Pa_SF0000002,0000.wav',\n",
    "                '1_4_2021_07_08_105101_Sound_Pa_SF0000002,0000.wav',\n",
    "                '1_5_2021_07_08_110551_Sound_Pa_SF0000002,0000.wav',\n",
    "                '1_6_2021_07_08_112530_Sound_Pa_SF0000002,0000.wav',\n",
    "                '1_7_2021_07_08_114025_Sound_Pa_SF0000002,0000.wav',\n",
    "                '1_8_2021_07_08_115537_Sound_Pa_SF0000002,0000.wav',\n",
    "                '1_9_2021_07_08_123951_Sound_Pa_SF0000002,0000.wav',\n",
    "                '1_10_2021_07_08_125653_Sound_Pa_SF0000002,0000.wav',\n",
    "                '1_11_2021_07_08_131059_Sound_Pa_SF0000002,0000.wav',\n",
    "                '1_12_2021_07_08_133004_Sound_Pa_SF0000002,0000.wav',\n",
    "                '1_13_2021_07_08_135216_Sound_Pa_SF0000002,0000.wav',\n",
    "                '1_14_2021_07_08_142154_Sound_Pa_SF0000002,0000.wav',\n",
    "                '1_15_2021_07_08_162545_Sound_Pa_SF0000002,0000.wav',\n",
    "                '1_16_2021_07_08_164415_Sound_Pa_SF0000002,0000.wav',\n",
    "                '1_17_2021_07_08_165931_Sound_Pa_SF0000002,0000.wav',\n",
    "                '1_18_2021_07_08_171513_Sound_Pa_SF0000002,0000.wav',\n",
    "                '1_19_2021_07_08_173507_Sound_Pa_SF0000002,0000.wav',\n",
    "                '1_20_2021_07_08_175732_Sound_Pa_SF0000002,0000.wav',\n",
    "                '2_1_2021_08_05_120829_Sound_Pa_SF0000002,0000.wav',\n",
    "                '2_2_2021_08_05_123145_Sound_Pa_SF0000002,0000.wav',\n",
    "                '2_3_2021_08_05_124736_Sound_Pa_SF0000002,0000.wav',\n",
    "                '2_4_2021_08_05_130406_Sound_Pa_SF0000002,0000.wav',\n",
    "                '2_5_2021_08_05_132001_Sound_Pa_SF0000002,0000.wav',\n",
    "                '2_6_2021_08_05_133527_Sound_Pa_SF0000002,0000.wav',\n",
    "                '2_7_2021_08_05_135737_Sound_Pa_SF0000002,0000.wav',\n",
    "                '2_8_2021_08_05_142807_Sound_Pa_SF0000002,0000.wav',\n",
    "                '2_9_2021_08_05_144359_Sound_Pa_SF0000002,0000.wav',\n",
    "                '2_10_2021_08_05_171531_Sound_Pa_SF0000002,0000.wav',\n",
    "                '2_11_2021_08_05_173121_Sound_Pa_SF0000004,0000.wav',\n",
    "                '2_12_2021_08_19_122626_Sound_Pa_SF0000002,0000.wav',\n",
    "                '2_13_2021_08_19_124757_Sound_Pa_SF0000002,0000.wav',\n",
    "                '2_14_2021_08_19_130234_Sound_Pa_SF0000002,0000.wav',\n",
    "                '2_15_2021_08_19_131846_Sound_Pa_SF0000002,0000.wav',\n",
    "                '2_16_2021_08_19_133359_Sound_Pa_SF0000002,0000.wav',\n",
    "                '2_17_2021_08_19_135158_Sound_Pa_SF0000002,0000.wav',\n",
    "                '2_18_2021_08_19_143917_Sound_Pa_SF0000002,0000.wav',\n",
    "                '2_19_2021_08_19_152241_Sound_Pa_SF0000002,0000.wav',\n",
    "                '2_20_2021_08_19_153903_Sound_Pa_SF0000002,0000.wav',\n",
    "                '2_21_2021_08_19_155502_Sound_Pa_SF0000002,0000.wav',\n",
    "                '3_1_2021_08_12_115910_Sound_Pa_SF0000002,0000.wav',\n",
    "                '3_2_2021_08_12_125423_Sound_Pa_SF0000002,0000.wav',\n",
    "                '3_3_2021_08_12_131721_Sound_Pa_SF0000002,0000.wav',\n",
    "                '3_4_2021_08_12_133432_Sound_Pa_SF0000002,0000.wav',\n",
    "                '3_5_2021_08_12_134820_Sound_Pa_SF0000002,0000.wav',\n",
    "                '3_6_2021_08_12_140730_Sound_Pa_SF0000002,0000.wav',\n",
    "                '3_7_2021_08_12_141936_Sound_Pa_SF0000002,0000.wav',\n",
    "                '3_8_2021_08_12_143435_Sound_Pa_SF0000002,0000.wav',\n",
    "                '3_9_2021_08_12_145047_Sound_Pa_SF0000002,0000.wav',\n",
    "                '3_10_2021_08_12_161050_Sound_Pa_SF0000002,0000.wav',\n",
    "                '3_14_2021_08_20_082149_Sound_Pa_SF0000002,0000.wav',\n",
    "                '3_15_2021_08_20_083423_Sound_Pa_SF0000002,0000.wav',\n",
    "                '3_16_2021_08_20_084849_Sound_Pa_SF0000002,0000.wav',\n",
    "                '3_17_2021_08_20_090422_Sound_Pa_SF0000002,0000.wav',\n",
    "                '3_18_2021_08_20_091712_Sound_Pa_SF0000002,0000.wav',\n",
    "                '3_19_2021_08_20_094229_Sound_Pa_SF0000002,0000.wav',\n",
    "                '3_20_2021_08_20_095638_Sound_Pa_SF0000002,0000.wav',\n",
    "                '3_21_2021_08_20_101033_Sound_Pa_SF0000002,0000.wav',\n",
    "                '3_22_2021_08_20_102553_Sound_Pa_SF0000002,0000.wav',\n",
    "                '3_23_2021_08_20_104304_Sound_Pa_SF0000002,0000.wav']"
   ]
  },
  {
   "cell_type": "code",
   "execution_count": 42,
   "metadata": {},
   "outputs": [],
   "source": [
    "def generic_features(audio_file):\n",
    "    '''\n",
    "    Extract Audio generic features using pydub\n",
    "    Input: file path\n",
    "    Output:  \n",
    "    Channels: number of channels: 1 for mono, 2 for stereo audio\n",
    "    Sample width: number of bytes per sample; 1 means 8 bits, 2 means 16 bit\n",
    "    Frame rate/ sample rate: frequency of sample used (in hertz)\n",
    "    Frame width: number of bytes for each frame. one fram e contains a sample of each channel\n",
    "    length: audio file length in millisecond\n",
    "    frame count: number of frames from sample\n",
    "    Intensity: loudness in dBFS (dB relative to maximum possible loudness.)\n",
    "    '''\n",
    "    audio_segment = AudioSegment.from_file(audio_file)\n",
    "\n",
    "    l=[audio_segment.channels, audio_segment.sample_width, audio_segment.frame_rate,\n",
    "        audio_segment.frame_width,len(audio_segment),audio_segment.frame_count(),audio_segment.dBFS]\n",
    "    \n",
    "    return l"
   ]
  },
  {
   "cell_type": "code",
   "execution_count": 55,
   "metadata": {},
   "outputs": [],
   "source": [
    "frame_size=1048\n",
    "hop_length=256"
   ]
  },
  {
   "cell_type": "code",
   "execution_count": 56,
   "metadata": {},
   "outputs": [],
   "source": [
    "def energy(signal):\n",
    "    \"\"\"Computes signal energy of frame\"\"\"\n",
    "    return np.sum(signal ** 2) / np.float64(len(signal))"
   ]
  },
  {
   "cell_type": "code",
   "execution_count": 63,
   "metadata": {},
   "outputs": [
    {
     "name": "stderr",
     "output_type": "stream",
     "text": [
      "C:\\Users\\anand\\AppData\\Local\\Programs\\Python\\Python39\\lib\\site-packages\\librosa\\util\\decorators.py:88: UserWarning: n_fft=1048 is too small for input signal of length=574\n",
      "  return f(*args, **kwargs)\n",
      "C:\\Users\\anand\\AppData\\Local\\Programs\\Python\\Python39\\lib\\site-packages\\librosa\\util\\decorators.py:88: UserWarning: n_fft=2048 is too small for input signal of length=574\n",
      "  return f(*args, **kwargs)\n",
      "C:\\Users\\anand\\AppData\\Local\\Programs\\Python\\Python39\\lib\\site-packages\\librosa\\util\\decorators.py:88: UserWarning: n_fft=1048 is too small for input signal of length=574\n",
      "  return f(*args, **kwargs)\n",
      "C:\\Users\\anand\\AppData\\Local\\Programs\\Python\\Python39\\lib\\site-packages\\librosa\\util\\decorators.py:88: UserWarning: n_fft=2048 is too small for input signal of length=574\n",
      "  return f(*args, **kwargs)\n",
      "C:\\Users\\anand\\AppData\\Local\\Programs\\Python\\Python39\\lib\\site-packages\\librosa\\util\\decorators.py:88: UserWarning: n_fft=1048 is too small for input signal of length=574\n",
      "  return f(*args, **kwargs)\n",
      "C:\\Users\\anand\\AppData\\Local\\Programs\\Python\\Python39\\lib\\site-packages\\librosa\\util\\decorators.py:88: UserWarning: n_fft=2048 is too small for input signal of length=574\n",
      "  return f(*args, **kwargs)\n",
      "C:\\Users\\anand\\AppData\\Local\\Programs\\Python\\Python39\\lib\\site-packages\\librosa\\util\\decorators.py:88: UserWarning: n_fft=1048 is too small for input signal of length=574\n",
      "  return f(*args, **kwargs)\n",
      "C:\\Users\\anand\\AppData\\Local\\Programs\\Python\\Python39\\lib\\site-packages\\librosa\\util\\decorators.py:88: UserWarning: n_fft=2048 is too small for input signal of length=574\n",
      "  return f(*args, **kwargs)\n",
      "C:\\Users\\anand\\AppData\\Local\\Programs\\Python\\Python39\\lib\\site-packages\\librosa\\util\\decorators.py:88: UserWarning: n_fft=1048 is too small for input signal of length=552\n",
      "  return f(*args, **kwargs)\n",
      "C:\\Users\\anand\\AppData\\Local\\Programs\\Python\\Python39\\lib\\site-packages\\librosa\\util\\decorators.py:88: UserWarning: n_fft=2048 is too small for input signal of length=552\n",
      "  return f(*args, **kwargs)\n",
      "C:\\Users\\anand\\AppData\\Local\\Programs\\Python\\Python39\\lib\\site-packages\\librosa\\util\\decorators.py:88: UserWarning: n_fft=1048 is too small for input signal of length=552\n",
      "  return f(*args, **kwargs)\n"
     ]
    },
    {
     "name": "stdout",
     "output_type": "stream",
     "text": [
      "0.19365251\n",
      "0.0\n",
      "0.1517791\n",
      "0.0\n",
      "0.08033434\n",
      "-0.087305844\n",
      "0.023873566\n",
      "-0.05028882\n",
      "0.066702254\n",
      "-0.0019516615\n"
     ]
    },
    {
     "name": "stderr",
     "output_type": "stream",
     "text": [
      "C:\\Users\\anand\\AppData\\Local\\Programs\\Python\\Python39\\lib\\site-packages\\librosa\\util\\decorators.py:88: UserWarning: n_fft=2048 is too small for input signal of length=552\n",
      "  return f(*args, **kwargs)\n",
      "C:\\Users\\anand\\AppData\\Local\\Programs\\Python\\Python39\\lib\\site-packages\\librosa\\util\\decorators.py:88: UserWarning: n_fft=1048 is too small for input signal of length=552\n",
      "  return f(*args, **kwargs)\n",
      "C:\\Users\\anand\\AppData\\Local\\Programs\\Python\\Python39\\lib\\site-packages\\librosa\\util\\decorators.py:88: UserWarning: n_fft=2048 is too small for input signal of length=552\n",
      "  return f(*args, **kwargs)\n",
      "C:\\Users\\anand\\AppData\\Local\\Programs\\Python\\Python39\\lib\\site-packages\\librosa\\util\\decorators.py:88: UserWarning: n_fft=1048 is too small for input signal of length=552\n",
      "  return f(*args, **kwargs)\n",
      "C:\\Users\\anand\\AppData\\Local\\Programs\\Python\\Python39\\lib\\site-packages\\librosa\\util\\decorators.py:88: UserWarning: n_fft=2048 is too small for input signal of length=552\n",
      "  return f(*args, **kwargs)\n",
      "C:\\Users\\anand\\AppData\\Local\\Programs\\Python\\Python39\\lib\\site-packages\\librosa\\util\\decorators.py:88: UserWarning: n_fft=1048 is too small for input signal of length=552\n",
      "  return f(*args, **kwargs)\n",
      "C:\\Users\\anand\\AppData\\Local\\Programs\\Python\\Python39\\lib\\site-packages\\librosa\\util\\decorators.py:88: UserWarning: n_fft=2048 is too small for input signal of length=552\n",
      "  return f(*args, **kwargs)\n",
      "C:\\Users\\anand\\AppData\\Local\\Programs\\Python\\Python39\\lib\\site-packages\\librosa\\util\\decorators.py:88: UserWarning: n_fft=1048 is too small for input signal of length=574\n",
      "  return f(*args, **kwargs)\n",
      "C:\\Users\\anand\\AppData\\Local\\Programs\\Python\\Python39\\lib\\site-packages\\librosa\\util\\decorators.py:88: UserWarning: n_fft=2048 is too small for input signal of length=574\n",
      "  return f(*args, **kwargs)\n",
      "C:\\Users\\anand\\AppData\\Local\\Programs\\Python\\Python39\\lib\\site-packages\\librosa\\util\\decorators.py:88: UserWarning: n_fft=1048 is too small for input signal of length=574\n",
      "  return f(*args, **kwargs)\n"
     ]
    },
    {
     "name": "stdout",
     "output_type": "stream",
     "text": [
      "0.05662623\n",
      "-0.039308634\n",
      "0.11860601\n",
      "-0.021731291\n",
      "0.1449194\n",
      "0.0\n",
      "0.043847077\n",
      "-0.030860435\n",
      "0.17530261\n",
      "0.0\n"
     ]
    },
    {
     "name": "stderr",
     "output_type": "stream",
     "text": [
      "C:\\Users\\anand\\AppData\\Local\\Programs\\Python\\Python39\\lib\\site-packages\\librosa\\util\\decorators.py:88: UserWarning: n_fft=2048 is too small for input signal of length=574\n",
      "  return f(*args, **kwargs)\n",
      "C:\\Users\\anand\\AppData\\Local\\Programs\\Python\\Python39\\lib\\site-packages\\librosa\\util\\decorators.py:88: UserWarning: n_fft=1048 is too small for input signal of length=574\n",
      "  return f(*args, **kwargs)\n",
      "C:\\Users\\anand\\AppData\\Local\\Programs\\Python\\Python39\\lib\\site-packages\\librosa\\util\\decorators.py:88: UserWarning: n_fft=2048 is too small for input signal of length=574\n",
      "  return f(*args, **kwargs)\n",
      "C:\\Users\\anand\\AppData\\Local\\Programs\\Python\\Python39\\lib\\site-packages\\librosa\\util\\decorators.py:88: UserWarning: n_fft=1048 is too small for input signal of length=552\n",
      "  return f(*args, **kwargs)\n",
      "C:\\Users\\anand\\AppData\\Local\\Programs\\Python\\Python39\\lib\\site-packages\\librosa\\util\\decorators.py:88: UserWarning: n_fft=2048 is too small for input signal of length=552\n",
      "  return f(*args, **kwargs)\n",
      "C:\\Users\\anand\\AppData\\Local\\Programs\\Python\\Python39\\lib\\site-packages\\librosa\\util\\decorators.py:88: UserWarning: n_fft=1048 is too small for input signal of length=552\n",
      "  return f(*args, **kwargs)\n",
      "C:\\Users\\anand\\AppData\\Local\\Programs\\Python\\Python39\\lib\\site-packages\\librosa\\util\\decorators.py:88: UserWarning: n_fft=2048 is too small for input signal of length=552\n",
      "  return f(*args, **kwargs)\n",
      "C:\\Users\\anand\\AppData\\Local\\Programs\\Python\\Python39\\lib\\site-packages\\librosa\\util\\decorators.py:88: UserWarning: n_fft=1048 is too small for input signal of length=574\n",
      "  return f(*args, **kwargs)\n",
      "C:\\Users\\anand\\AppData\\Local\\Programs\\Python\\Python39\\lib\\site-packages\\librosa\\util\\decorators.py:88: UserWarning: n_fft=2048 is too small for input signal of length=574\n",
      "  return f(*args, **kwargs)\n",
      "C:\\Users\\anand\\AppData\\Local\\Programs\\Python\\Python39\\lib\\site-packages\\librosa\\util\\decorators.py:88: UserWarning: n_fft=1048 is too small for input signal of length=574\n",
      "  return f(*args, **kwargs)\n",
      "C:\\Users\\anand\\AppData\\Local\\Programs\\Python\\Python39\\lib\\site-packages\\librosa\\util\\decorators.py:88: UserWarning: n_fft=2048 is too small for input signal of length=574\n",
      "  return f(*args, **kwargs)\n"
     ]
    },
    {
     "name": "stdout",
     "output_type": "stream",
     "text": [
      "0.17256308\n",
      "0.0\n",
      "0.06528834\n",
      "0.0\n",
      "0.06597726\n",
      "-0.08364905\n",
      "0.12114016\n",
      "0.0\n",
      "0.041469906\n",
      "-0.012670505\n",
      "0.09648394\n",
      "-0.0036884004\n",
      "0.06630538\n",
      "-0.022635175\n",
      "0.0806517\n",
      "-0.087937646\n",
      "0.06471133\n",
      "0.0\n",
      "0.049767293\n",
      "-0.03938087\n"
     ]
    },
    {
     "name": "stderr",
     "output_type": "stream",
     "text": [
      "C:\\Users\\anand\\AppData\\Local\\Programs\\Python\\Python39\\lib\\site-packages\\librosa\\util\\decorators.py:88: UserWarning: n_fft=1048 is too small for input signal of length=574\n",
      "  return f(*args, **kwargs)\n",
      "C:\\Users\\anand\\AppData\\Local\\Programs\\Python\\Python39\\lib\\site-packages\\librosa\\util\\decorators.py:88: UserWarning: n_fft=2048 is too small for input signal of length=574\n",
      "  return f(*args, **kwargs)\n",
      "C:\\Users\\anand\\AppData\\Local\\Programs\\Python\\Python39\\lib\\site-packages\\librosa\\util\\decorators.py:88: UserWarning: n_fft=1048 is too small for input signal of length=552\n",
      "  return f(*args, **kwargs)\n",
      "C:\\Users\\anand\\AppData\\Local\\Programs\\Python\\Python39\\lib\\site-packages\\librosa\\util\\decorators.py:88: UserWarning: n_fft=2048 is too small for input signal of length=552\n",
      "  return f(*args, **kwargs)\n",
      "C:\\Users\\anand\\AppData\\Local\\Programs\\Python\\Python39\\lib\\site-packages\\librosa\\util\\decorators.py:88: UserWarning: n_fft=1048 is too small for input signal of length=552\n",
      "  return f(*args, **kwargs)\n",
      "C:\\Users\\anand\\AppData\\Local\\Programs\\Python\\Python39\\lib\\site-packages\\librosa\\util\\decorators.py:88: UserWarning: n_fft=2048 is too small for input signal of length=552\n",
      "  return f(*args, **kwargs)\n",
      "C:\\Users\\anand\\AppData\\Local\\Programs\\Python\\Python39\\lib\\site-packages\\librosa\\util\\decorators.py:88: UserWarning: n_fft=1048 is too small for input signal of length=552\n",
      "  return f(*args, **kwargs)\n",
      "C:\\Users\\anand\\AppData\\Local\\Programs\\Python\\Python39\\lib\\site-packages\\librosa\\util\\decorators.py:88: UserWarning: n_fft=2048 is too small for input signal of length=552\n",
      "  return f(*args, **kwargs)\n",
      "C:\\Users\\anand\\AppData\\Local\\Programs\\Python\\Python39\\lib\\site-packages\\librosa\\util\\decorators.py:88: UserWarning: n_fft=1048 is too small for input signal of length=552\n",
      "  return f(*args, **kwargs)\n",
      "C:\\Users\\anand\\AppData\\Local\\Programs\\Python\\Python39\\lib\\site-packages\\librosa\\util\\decorators.py:88: UserWarning: n_fft=2048 is too small for input signal of length=552\n",
      "  return f(*args, **kwargs)\n",
      "C:\\Users\\anand\\AppData\\Local\\Programs\\Python\\Python39\\lib\\site-packages\\librosa\\util\\decorators.py:88: UserWarning: n_fft=1048 is too small for input signal of length=552\n",
      "  return f(*args, **kwargs)\n"
     ]
    },
    {
     "name": "stdout",
     "output_type": "stream",
     "text": [
      "0.6632336\n",
      "-0.56482893\n",
      "0.042432707\n",
      "-0.05597161\n",
      "0.072753884\n",
      "-0.04375923\n",
      "0.094119415\n",
      "-0.036912523\n",
      "0.083223775\n",
      "-0.01968773\n"
     ]
    },
    {
     "name": "stderr",
     "output_type": "stream",
     "text": [
      "C:\\Users\\anand\\AppData\\Local\\Programs\\Python\\Python39\\lib\\site-packages\\librosa\\util\\decorators.py:88: UserWarning: n_fft=2048 is too small for input signal of length=552\n",
      "  return f(*args, **kwargs)\n",
      "C:\\Users\\anand\\AppData\\Local\\Programs\\Python\\Python39\\lib\\site-packages\\librosa\\util\\decorators.py:88: UserWarning: n_fft=1048 is too small for input signal of length=552\n",
      "  return f(*args, **kwargs)\n",
      "C:\\Users\\anand\\AppData\\Local\\Programs\\Python\\Python39\\lib\\site-packages\\librosa\\util\\decorators.py:88: UserWarning: n_fft=2048 is too small for input signal of length=552\n",
      "  return f(*args, **kwargs)\n",
      "C:\\Users\\anand\\AppData\\Local\\Programs\\Python\\Python39\\lib\\site-packages\\librosa\\util\\decorators.py:88: UserWarning: n_fft=1048 is too small for input signal of length=552\n",
      "  return f(*args, **kwargs)\n",
      "C:\\Users\\anand\\AppData\\Local\\Programs\\Python\\Python39\\lib\\site-packages\\librosa\\util\\decorators.py:88: UserWarning: n_fft=2048 is too small for input signal of length=552\n",
      "  return f(*args, **kwargs)\n",
      "C:\\Users\\anand\\AppData\\Local\\Programs\\Python\\Python39\\lib\\site-packages\\librosa\\util\\decorators.py:88: UserWarning: n_fft=1048 is too small for input signal of length=552\n",
      "  return f(*args, **kwargs)\n",
      "C:\\Users\\anand\\AppData\\Local\\Programs\\Python\\Python39\\lib\\site-packages\\librosa\\util\\decorators.py:88: UserWarning: n_fft=2048 is too small for input signal of length=552\n",
      "  return f(*args, **kwargs)\n",
      "C:\\Users\\anand\\AppData\\Local\\Programs\\Python\\Python39\\lib\\site-packages\\librosa\\util\\decorators.py:88: UserWarning: n_fft=1048 is too small for input signal of length=552\n",
      "  return f(*args, **kwargs)\n",
      "C:\\Users\\anand\\AppData\\Local\\Programs\\Python\\Python39\\lib\\site-packages\\librosa\\util\\decorators.py:88: UserWarning: n_fft=2048 is too small for input signal of length=552\n",
      "  return f(*args, **kwargs)\n",
      "C:\\Users\\anand\\AppData\\Local\\Programs\\Python\\Python39\\lib\\site-packages\\librosa\\util\\decorators.py:88: UserWarning: n_fft=1048 is too small for input signal of length=552\n",
      "  return f(*args, **kwargs)\n"
     ]
    },
    {
     "name": "stdout",
     "output_type": "stream",
     "text": [
      "0.017046567\n",
      "-0.043225434\n",
      "0.05099127\n",
      "-0.10658569\n",
      "0.021601574\n",
      "-0.05270226\n",
      "0.034106333\n",
      "-0.058534183\n",
      "0.0926085\n",
      "0.0\n"
     ]
    },
    {
     "name": "stderr",
     "output_type": "stream",
     "text": [
      "C:\\Users\\anand\\AppData\\Local\\Programs\\Python\\Python39\\lib\\site-packages\\librosa\\util\\decorators.py:88: UserWarning: n_fft=2048 is too small for input signal of length=552\n",
      "  return f(*args, **kwargs)\n",
      "C:\\Users\\anand\\AppData\\Local\\Programs\\Python\\Python39\\lib\\site-packages\\librosa\\util\\decorators.py:88: UserWarning: n_fft=1048 is too small for input signal of length=552\n",
      "  return f(*args, **kwargs)\n",
      "C:\\Users\\anand\\AppData\\Local\\Programs\\Python\\Python39\\lib\\site-packages\\librosa\\util\\decorators.py:88: UserWarning: n_fft=2048 is too small for input signal of length=552\n",
      "  return f(*args, **kwargs)\n",
      "C:\\Users\\anand\\AppData\\Local\\Programs\\Python\\Python39\\lib\\site-packages\\librosa\\util\\decorators.py:88: UserWarning: n_fft=1048 is too small for input signal of length=552\n",
      "  return f(*args, **kwargs)\n",
      "C:\\Users\\anand\\AppData\\Local\\Programs\\Python\\Python39\\lib\\site-packages\\librosa\\util\\decorators.py:88: UserWarning: n_fft=2048 is too small for input signal of length=552\n",
      "  return f(*args, **kwargs)\n",
      "C:\\Users\\anand\\AppData\\Local\\Programs\\Python\\Python39\\lib\\site-packages\\librosa\\util\\decorators.py:88: UserWarning: n_fft=1048 is too small for input signal of length=552\n",
      "  return f(*args, **kwargs)\n",
      "C:\\Users\\anand\\AppData\\Local\\Programs\\Python\\Python39\\lib\\site-packages\\librosa\\util\\decorators.py:88: UserWarning: n_fft=2048 is too small for input signal of length=552\n",
      "  return f(*args, **kwargs)\n",
      "C:\\Users\\anand\\AppData\\Local\\Programs\\Python\\Python39\\lib\\site-packages\\librosa\\util\\decorators.py:88: UserWarning: n_fft=1048 is too small for input signal of length=552\n",
      "  return f(*args, **kwargs)\n",
      "C:\\Users\\anand\\AppData\\Local\\Programs\\Python\\Python39\\lib\\site-packages\\librosa\\util\\decorators.py:88: UserWarning: n_fft=2048 is too small for input signal of length=552\n",
      "  return f(*args, **kwargs)\n"
     ]
    },
    {
     "name": "stdout",
     "output_type": "stream",
     "text": [
      "0.06714249\n",
      "-0.052188437\n",
      "0.09719413\n",
      "-0.08572017\n",
      "0.121562004\n",
      "0.0\n",
      "0.05852176\n",
      "-0.001662404\n",
      "0.097213745\n",
      "0.0\n"
     ]
    },
    {
     "name": "stderr",
     "output_type": "stream",
     "text": [
      "C:\\Users\\anand\\AppData\\Local\\Programs\\Python\\Python39\\lib\\site-packages\\librosa\\util\\decorators.py:88: UserWarning: n_fft=1048 is too small for input signal of length=552\n",
      "  return f(*args, **kwargs)\n",
      "C:\\Users\\anand\\AppData\\Local\\Programs\\Python\\Python39\\lib\\site-packages\\librosa\\util\\decorators.py:88: UserWarning: n_fft=2048 is too small for input signal of length=552\n",
      "  return f(*args, **kwargs)\n",
      "C:\\Users\\anand\\AppData\\Local\\Programs\\Python\\Python39\\lib\\site-packages\\librosa\\util\\decorators.py:88: UserWarning: n_fft=1048 is too small for input signal of length=552\n",
      "  return f(*args, **kwargs)\n",
      "C:\\Users\\anand\\AppData\\Local\\Programs\\Python\\Python39\\lib\\site-packages\\librosa\\util\\decorators.py:88: UserWarning: n_fft=2048 is too small for input signal of length=552\n",
      "  return f(*args, **kwargs)\n",
      "C:\\Users\\anand\\AppData\\Local\\Programs\\Python\\Python39\\lib\\site-packages\\librosa\\util\\decorators.py:88: UserWarning: n_fft=1048 is too small for input signal of length=552\n",
      "  return f(*args, **kwargs)\n",
      "C:\\Users\\anand\\AppData\\Local\\Programs\\Python\\Python39\\lib\\site-packages\\librosa\\util\\decorators.py:88: UserWarning: n_fft=2048 is too small for input signal of length=552\n",
      "  return f(*args, **kwargs)\n",
      "C:\\Users\\anand\\AppData\\Local\\Programs\\Python\\Python39\\lib\\site-packages\\librosa\\util\\decorators.py:88: UserWarning: n_fft=1048 is too small for input signal of length=552\n",
      "  return f(*args, **kwargs)\n",
      "C:\\Users\\anand\\AppData\\Local\\Programs\\Python\\Python39\\lib\\site-packages\\librosa\\util\\decorators.py:88: UserWarning: n_fft=2048 is too small for input signal of length=552\n",
      "  return f(*args, **kwargs)\n",
      "C:\\Users\\anand\\AppData\\Local\\Programs\\Python\\Python39\\lib\\site-packages\\librosa\\util\\decorators.py:88: UserWarning: n_fft=1048 is too small for input signal of length=552\n",
      "  return f(*args, **kwargs)\n",
      "C:\\Users\\anand\\AppData\\Local\\Programs\\Python\\Python39\\lib\\site-packages\\librosa\\util\\decorators.py:88: UserWarning: n_fft=2048 is too small for input signal of length=552\n",
      "  return f(*args, **kwargs)\n",
      "C:\\Users\\anand\\AppData\\Local\\Programs\\Python\\Python39\\lib\\site-packages\\librosa\\util\\decorators.py:88: UserWarning: n_fft=1048 is too small for input signal of length=552\n",
      "  return f(*args, **kwargs)\n"
     ]
    },
    {
     "name": "stdout",
     "output_type": "stream",
     "text": [
      "0.09642245\n",
      "-0.08536384\n",
      "0.11169463\n",
      "0.0\n",
      "0.032250203\n",
      "-0.0439916\n",
      "0.10389585\n",
      "0.0\n",
      "0.10218551\n",
      "-0.103763714\n"
     ]
    },
    {
     "name": "stderr",
     "output_type": "stream",
     "text": [
      "C:\\Users\\anand\\AppData\\Local\\Programs\\Python\\Python39\\lib\\site-packages\\librosa\\util\\decorators.py:88: UserWarning: n_fft=2048 is too small for input signal of length=552\n",
      "  return f(*args, **kwargs)\n",
      "C:\\Users\\anand\\AppData\\Local\\Programs\\Python\\Python39\\lib\\site-packages\\librosa\\util\\decorators.py:88: UserWarning: n_fft=1048 is too small for input signal of length=552\n",
      "  return f(*args, **kwargs)\n",
      "C:\\Users\\anand\\AppData\\Local\\Programs\\Python\\Python39\\lib\\site-packages\\librosa\\util\\decorators.py:88: UserWarning: n_fft=2048 is too small for input signal of length=552\n",
      "  return f(*args, **kwargs)\n",
      "C:\\Users\\anand\\AppData\\Local\\Programs\\Python\\Python39\\lib\\site-packages\\librosa\\util\\decorators.py:88: UserWarning: n_fft=1048 is too small for input signal of length=552\n",
      "  return f(*args, **kwargs)\n",
      "C:\\Users\\anand\\AppData\\Local\\Programs\\Python\\Python39\\lib\\site-packages\\librosa\\util\\decorators.py:88: UserWarning: n_fft=2048 is too small for input signal of length=552\n",
      "  return f(*args, **kwargs)\n",
      "C:\\Users\\anand\\AppData\\Local\\Programs\\Python\\Python39\\lib\\site-packages\\librosa\\util\\decorators.py:88: UserWarning: n_fft=1048 is too small for input signal of length=552\n",
      "  return f(*args, **kwargs)\n",
      "C:\\Users\\anand\\AppData\\Local\\Programs\\Python\\Python39\\lib\\site-packages\\librosa\\util\\decorators.py:88: UserWarning: n_fft=2048 is too small for input signal of length=552\n",
      "  return f(*args, **kwargs)\n",
      "C:\\Users\\anand\\AppData\\Local\\Programs\\Python\\Python39\\lib\\site-packages\\librosa\\util\\decorators.py:88: UserWarning: n_fft=1048 is too small for input signal of length=552\n",
      "  return f(*args, **kwargs)\n",
      "C:\\Users\\anand\\AppData\\Local\\Programs\\Python\\Python39\\lib\\site-packages\\librosa\\util\\decorators.py:88: UserWarning: n_fft=2048 is too small for input signal of length=552\n",
      "  return f(*args, **kwargs)\n"
     ]
    },
    {
     "name": "stdout",
     "output_type": "stream",
     "text": [
      "0.54196215\n",
      "-0.5767959\n",
      "0.18696785\n",
      "0.0\n",
      "0.057258412\n",
      "-0.09404714\n",
      "0.04649543\n",
      "-0.035893884\n",
      "0.120010115\n",
      "-0.04849441\n"
     ]
    },
    {
     "name": "stderr",
     "output_type": "stream",
     "text": [
      "C:\\Users\\anand\\AppData\\Local\\Programs\\Python\\Python39\\lib\\site-packages\\librosa\\util\\decorators.py:88: UserWarning: n_fft=1048 is too small for input signal of length=574\n",
      "  return f(*args, **kwargs)\n",
      "C:\\Users\\anand\\AppData\\Local\\Programs\\Python\\Python39\\lib\\site-packages\\librosa\\util\\decorators.py:88: UserWarning: n_fft=2048 is too small for input signal of length=574\n",
      "  return f(*args, **kwargs)\n",
      "C:\\Users\\anand\\AppData\\Local\\Programs\\Python\\Python39\\lib\\site-packages\\librosa\\util\\decorators.py:88: UserWarning: n_fft=1048 is too small for input signal of length=552\n",
      "  return f(*args, **kwargs)\n",
      "C:\\Users\\anand\\AppData\\Local\\Programs\\Python\\Python39\\lib\\site-packages\\librosa\\util\\decorators.py:88: UserWarning: n_fft=2048 is too small for input signal of length=552\n",
      "  return f(*args, **kwargs)\n",
      "C:\\Users\\anand\\AppData\\Local\\Programs\\Python\\Python39\\lib\\site-packages\\librosa\\util\\decorators.py:88: UserWarning: n_fft=1048 is too small for input signal of length=552\n",
      "  return f(*args, **kwargs)\n",
      "C:\\Users\\anand\\AppData\\Local\\Programs\\Python\\Python39\\lib\\site-packages\\librosa\\util\\decorators.py:88: UserWarning: n_fft=2048 is too small for input signal of length=552\n",
      "  return f(*args, **kwargs)\n",
      "C:\\Users\\anand\\AppData\\Local\\Programs\\Python\\Python39\\lib\\site-packages\\librosa\\util\\decorators.py:88: UserWarning: n_fft=1048 is too small for input signal of length=552\n",
      "  return f(*args, **kwargs)\n",
      "C:\\Users\\anand\\AppData\\Local\\Programs\\Python\\Python39\\lib\\site-packages\\librosa\\util\\decorators.py:88: UserWarning: n_fft=2048 is too small for input signal of length=552\n",
      "  return f(*args, **kwargs)\n",
      "C:\\Users\\anand\\AppData\\Local\\Programs\\Python\\Python39\\lib\\site-packages\\librosa\\util\\decorators.py:88: UserWarning: n_fft=1048 is too small for input signal of length=552\n",
      "  return f(*args, **kwargs)\n",
      "C:\\Users\\anand\\AppData\\Local\\Programs\\Python\\Python39\\lib\\site-packages\\librosa\\util\\decorators.py:88: UserWarning: n_fft=2048 is too small for input signal of length=552\n",
      "  return f(*args, **kwargs)\n",
      "C:\\Users\\anand\\AppData\\Local\\Programs\\Python\\Python39\\lib\\site-packages\\librosa\\util\\decorators.py:88: UserWarning: n_fft=1048 is too small for input signal of length=574\n",
      "  return f(*args, **kwargs)\n"
     ]
    },
    {
     "name": "stdout",
     "output_type": "stream",
     "text": [
      "0.05661513\n",
      "-0.056345437\n",
      "0.024378937\n",
      "-0.06170971\n",
      "0.07904786\n",
      "-0.037801567\n",
      "0.069492005\n",
      "-0.0070446418\n",
      "0.09421814\n",
      "-0.068764776\n"
     ]
    },
    {
     "name": "stderr",
     "output_type": "stream",
     "text": [
      "C:\\Users\\anand\\AppData\\Local\\Programs\\Python\\Python39\\lib\\site-packages\\librosa\\util\\decorators.py:88: UserWarning: n_fft=2048 is too small for input signal of length=574\n",
      "  return f(*args, **kwargs)\n",
      "C:\\Users\\anand\\AppData\\Local\\Programs\\Python\\Python39\\lib\\site-packages\\librosa\\util\\decorators.py:88: UserWarning: n_fft=1048 is too small for input signal of length=552\n",
      "  return f(*args, **kwargs)\n",
      "C:\\Users\\anand\\AppData\\Local\\Programs\\Python\\Python39\\lib\\site-packages\\librosa\\util\\decorators.py:88: UserWarning: n_fft=2048 is too small for input signal of length=552\n",
      "  return f(*args, **kwargs)\n",
      "C:\\Users\\anand\\AppData\\Local\\Programs\\Python\\Python39\\lib\\site-packages\\librosa\\util\\decorators.py:88: UserWarning: n_fft=1048 is too small for input signal of length=552\n",
      "  return f(*args, **kwargs)\n",
      "C:\\Users\\anand\\AppData\\Local\\Programs\\Python\\Python39\\lib\\site-packages\\librosa\\util\\decorators.py:88: UserWarning: n_fft=2048 is too small for input signal of length=552\n",
      "  return f(*args, **kwargs)\n",
      "C:\\Users\\anand\\AppData\\Local\\Programs\\Python\\Python39\\lib\\site-packages\\librosa\\util\\decorators.py:88: UserWarning: n_fft=1048 is too small for input signal of length=574\n",
      "  return f(*args, **kwargs)\n",
      "C:\\Users\\anand\\AppData\\Local\\Programs\\Python\\Python39\\lib\\site-packages\\librosa\\util\\decorators.py:88: UserWarning: n_fft=2048 is too small for input signal of length=574\n",
      "  return f(*args, **kwargs)\n",
      "C:\\Users\\anand\\AppData\\Local\\Programs\\Python\\Python39\\lib\\site-packages\\librosa\\util\\decorators.py:88: UserWarning: n_fft=1048 is too small for input signal of length=552\n",
      "  return f(*args, **kwargs)\n",
      "C:\\Users\\anand\\AppData\\Local\\Programs\\Python\\Python39\\lib\\site-packages\\librosa\\util\\decorators.py:88: UserWarning: n_fft=2048 is too small for input signal of length=552\n",
      "  return f(*args, **kwargs)\n"
     ]
    },
    {
     "name": "stdout",
     "output_type": "stream",
     "text": [
      "0.054882687\n",
      "-0.07093376\n",
      "0.24674396\n",
      "-0.3471598\n",
      "0.056406014\n",
      "-0.043583278\n",
      "0.1455755\n",
      "-0.025312923\n"
     ]
    },
    {
     "name": "stderr",
     "output_type": "stream",
     "text": [
      "C:\\Users\\anand\\AppData\\Local\\Programs\\Python\\Python39\\lib\\site-packages\\librosa\\util\\decorators.py:88: UserWarning: n_fft=1048 is too small for input signal of length=552\n",
      "  return f(*args, **kwargs)\n",
      "C:\\Users\\anand\\AppData\\Local\\Programs\\Python\\Python39\\lib\\site-packages\\librosa\\util\\decorators.py:88: UserWarning: n_fft=2048 is too small for input signal of length=552\n",
      "  return f(*args, **kwargs)\n",
      "C:\\Users\\anand\\AppData\\Local\\Programs\\Python\\Python39\\lib\\site-packages\\librosa\\util\\decorators.py:88: UserWarning: n_fft=1048 is too small for input signal of length=552\n",
      "  return f(*args, **kwargs)\n",
      "C:\\Users\\anand\\AppData\\Local\\Programs\\Python\\Python39\\lib\\site-packages\\librosa\\util\\decorators.py:88: UserWarning: n_fft=2048 is too small for input signal of length=552\n",
      "  return f(*args, **kwargs)\n",
      "C:\\Users\\anand\\AppData\\Local\\Programs\\Python\\Python39\\lib\\site-packages\\librosa\\util\\decorators.py:88: UserWarning: n_fft=1048 is too small for input signal of length=530\n",
      "  return f(*args, **kwargs)\n",
      "C:\\Users\\anand\\AppData\\Local\\Programs\\Python\\Python39\\lib\\site-packages\\librosa\\util\\decorators.py:88: UserWarning: n_fft=2048 is too small for input signal of length=530\n",
      "  return f(*args, **kwargs)\n",
      "C:\\Users\\anand\\AppData\\Local\\Programs\\Python\\Python39\\lib\\site-packages\\librosa\\util\\decorators.py:88: UserWarning: n_fft=1048 is too small for input signal of length=530\n",
      "  return f(*args, **kwargs)\n",
      "C:\\Users\\anand\\AppData\\Local\\Programs\\Python\\Python39\\lib\\site-packages\\librosa\\util\\decorators.py:88: UserWarning: n_fft=2048 is too small for input signal of length=530\n",
      "  return f(*args, **kwargs)\n",
      "C:\\Users\\anand\\AppData\\Local\\Programs\\Python\\Python39\\lib\\site-packages\\librosa\\util\\decorators.py:88: UserWarning: n_fft=1048 is too small for input signal of length=530\n",
      "  return f(*args, **kwargs)\n",
      "C:\\Users\\anand\\AppData\\Local\\Programs\\Python\\Python39\\lib\\site-packages\\librosa\\util\\decorators.py:88: UserWarning: n_fft=2048 is too small for input signal of length=530\n",
      "  return f(*args, **kwargs)\n",
      "C:\\Users\\anand\\AppData\\Local\\Programs\\Python\\Python39\\lib\\site-packages\\librosa\\util\\decorators.py:88: UserWarning: n_fft=1048 is too small for input signal of length=530\n",
      "  return f(*args, **kwargs)\n"
     ]
    },
    {
     "name": "stdout",
     "output_type": "stream",
     "text": [
      "0.00915948\n",
      "-0.038450565\n",
      "0.0041032904\n",
      "-0.046971165\n",
      "0.030301146\n",
      "-0.04366922\n",
      "0.08926684\n",
      "-0.03847621\n",
      "0.0716535\n",
      "-0.029015504\n"
     ]
    },
    {
     "name": "stderr",
     "output_type": "stream",
     "text": [
      "C:\\Users\\anand\\AppData\\Local\\Programs\\Python\\Python39\\lib\\site-packages\\librosa\\util\\decorators.py:88: UserWarning: n_fft=2048 is too small for input signal of length=530\n",
      "  return f(*args, **kwargs)\n",
      "C:\\Users\\anand\\AppData\\Local\\Programs\\Python\\Python39\\lib\\site-packages\\librosa\\util\\decorators.py:88: UserWarning: n_fft=1048 is too small for input signal of length=552\n",
      "  return f(*args, **kwargs)\n",
      "C:\\Users\\anand\\AppData\\Local\\Programs\\Python\\Python39\\lib\\site-packages\\librosa\\util\\decorators.py:88: UserWarning: n_fft=2048 is too small for input signal of length=552\n",
      "  return f(*args, **kwargs)\n",
      "C:\\Users\\anand\\AppData\\Local\\Programs\\Python\\Python39\\lib\\site-packages\\librosa\\util\\decorators.py:88: UserWarning: n_fft=1048 is too small for input signal of length=552\n",
      "  return f(*args, **kwargs)\n",
      "C:\\Users\\anand\\AppData\\Local\\Programs\\Python\\Python39\\lib\\site-packages\\librosa\\util\\decorators.py:88: UserWarning: n_fft=2048 is too small for input signal of length=552\n",
      "  return f(*args, **kwargs)\n",
      "C:\\Users\\anand\\AppData\\Local\\Programs\\Python\\Python39\\lib\\site-packages\\librosa\\util\\decorators.py:88: UserWarning: n_fft=1048 is too small for input signal of length=530\n",
      "  return f(*args, **kwargs)\n",
      "C:\\Users\\anand\\AppData\\Local\\Programs\\Python\\Python39\\lib\\site-packages\\librosa\\util\\decorators.py:88: UserWarning: n_fft=2048 is too small for input signal of length=530\n",
      "  return f(*args, **kwargs)\n",
      "C:\\Users\\anand\\AppData\\Local\\Programs\\Python\\Python39\\lib\\site-packages\\librosa\\util\\decorators.py:88: UserWarning: n_fft=1048 is too small for input signal of length=552\n",
      "  return f(*args, **kwargs)\n",
      "C:\\Users\\anand\\AppData\\Local\\Programs\\Python\\Python39\\lib\\site-packages\\librosa\\util\\decorators.py:88: UserWarning: n_fft=2048 is too small for input signal of length=552\n",
      "  return f(*args, **kwargs)\n",
      "C:\\Users\\anand\\AppData\\Local\\Programs\\Python\\Python39\\lib\\site-packages\\librosa\\util\\decorators.py:88: UserWarning: n_fft=1048 is too small for input signal of length=530\n",
      "  return f(*args, **kwargs)\n"
     ]
    },
    {
     "name": "stdout",
     "output_type": "stream",
     "text": [
      "0.053205676\n",
      "-0.034767162\n",
      "0.078759134\n",
      "-0.032544877\n",
      "0.07435017\n",
      "-0.045485273\n",
      "0.09800401\n",
      "-0.03231797\n",
      "0.11577801\n",
      "0.0\n"
     ]
    },
    {
     "name": "stderr",
     "output_type": "stream",
     "text": [
      "C:\\Users\\anand\\AppData\\Local\\Programs\\Python\\Python39\\lib\\site-packages\\librosa\\util\\decorators.py:88: UserWarning: n_fft=2048 is too small for input signal of length=530\n",
      "  return f(*args, **kwargs)\n",
      "C:\\Users\\anand\\AppData\\Local\\Programs\\Python\\Python39\\lib\\site-packages\\librosa\\util\\decorators.py:88: UserWarning: n_fft=1048 is too small for input signal of length=530\n",
      "  return f(*args, **kwargs)\n",
      "C:\\Users\\anand\\AppData\\Local\\Programs\\Python\\Python39\\lib\\site-packages\\librosa\\util\\decorators.py:88: UserWarning: n_fft=2048 is too small for input signal of length=530\n",
      "  return f(*args, **kwargs)\n",
      "C:\\Users\\anand\\AppData\\Local\\Programs\\Python\\Python39\\lib\\site-packages\\librosa\\util\\decorators.py:88: UserWarning: n_fft=1048 is too small for input signal of length=552\n",
      "  return f(*args, **kwargs)\n",
      "C:\\Users\\anand\\AppData\\Local\\Programs\\Python\\Python39\\lib\\site-packages\\librosa\\util\\decorators.py:88: UserWarning: n_fft=2048 is too small for input signal of length=552\n",
      "  return f(*args, **kwargs)\n",
      "C:\\Users\\anand\\AppData\\Local\\Programs\\Python\\Python39\\lib\\site-packages\\librosa\\util\\decorators.py:88: UserWarning: n_fft=1048 is too small for input signal of length=508\n",
      "  return f(*args, **kwargs)\n",
      "C:\\Users\\anand\\AppData\\Local\\Programs\\Python\\Python39\\lib\\site-packages\\librosa\\util\\decorators.py:88: UserWarning: n_fft=2048 is too small for input signal of length=508\n",
      "  return f(*args, **kwargs)\n",
      "C:\\Users\\anand\\AppData\\Local\\Programs\\Python\\Python39\\lib\\site-packages\\librosa\\util\\decorators.py:88: UserWarning: n_fft=1048 is too small for input signal of length=508\n",
      "  return f(*args, **kwargs)\n",
      "C:\\Users\\anand\\AppData\\Local\\Programs\\Python\\Python39\\lib\\site-packages\\librosa\\util\\decorators.py:88: UserWarning: n_fft=2048 is too small for input signal of length=508\n",
      "  return f(*args, **kwargs)\n"
     ]
    },
    {
     "name": "stdout",
     "output_type": "stream",
     "text": [
      "0.07030262\n",
      "-0.059361126\n",
      "0.027534321\n",
      "-0.033048198\n",
      "0.05472234\n",
      "-0.034094606\n",
      "0.24997632\n",
      "-0.037069805\n",
      "0.011982412\n",
      "-0.09820267\n"
     ]
    },
    {
     "name": "stderr",
     "output_type": "stream",
     "text": [
      "C:\\Users\\anand\\AppData\\Local\\Programs\\Python\\Python39\\lib\\site-packages\\librosa\\util\\decorators.py:88: UserWarning: n_fft=1048 is too small for input signal of length=508\n",
      "  return f(*args, **kwargs)\n",
      "C:\\Users\\anand\\AppData\\Local\\Programs\\Python\\Python39\\lib\\site-packages\\librosa\\util\\decorators.py:88: UserWarning: n_fft=2048 is too small for input signal of length=508\n",
      "  return f(*args, **kwargs)\n",
      "C:\\Users\\anand\\AppData\\Local\\Programs\\Python\\Python39\\lib\\site-packages\\librosa\\util\\decorators.py:88: UserWarning: n_fft=1048 is too small for input signal of length=464\n",
      "  return f(*args, **kwargs)\n",
      "C:\\Users\\anand\\AppData\\Local\\Programs\\Python\\Python39\\lib\\site-packages\\librosa\\util\\decorators.py:88: UserWarning: n_fft=2048 is too small for input signal of length=464\n",
      "  return f(*args, **kwargs)\n",
      "C:\\Users\\anand\\AppData\\Local\\Programs\\Python\\Python39\\lib\\site-packages\\librosa\\util\\decorators.py:88: UserWarning: n_fft=1048 is too small for input signal of length=530\n",
      "  return f(*args, **kwargs)\n",
      "C:\\Users\\anand\\AppData\\Local\\Programs\\Python\\Python39\\lib\\site-packages\\librosa\\util\\decorators.py:88: UserWarning: n_fft=2048 is too small for input signal of length=530\n",
      "  return f(*args, **kwargs)\n",
      "C:\\Users\\anand\\AppData\\Local\\Programs\\Python\\Python39\\lib\\site-packages\\librosa\\util\\decorators.py:88: UserWarning: n_fft=1048 is too small for input signal of length=530\n",
      "  return f(*args, **kwargs)\n",
      "C:\\Users\\anand\\AppData\\Local\\Programs\\Python\\Python39\\lib\\site-packages\\librosa\\util\\decorators.py:88: UserWarning: n_fft=2048 is too small for input signal of length=530\n",
      "  return f(*args, **kwargs)\n",
      "C:\\Users\\anand\\AppData\\Local\\Programs\\Python\\Python39\\lib\\site-packages\\librosa\\util\\decorators.py:88: UserWarning: n_fft=1048 is too small for input signal of length=508\n",
      "  return f(*args, **kwargs)\n",
      "C:\\Users\\anand\\AppData\\Local\\Programs\\Python\\Python39\\lib\\site-packages\\librosa\\util\\decorators.py:88: UserWarning: n_fft=2048 is too small for input signal of length=508\n",
      "  return f(*args, **kwargs)\n",
      "C:\\Users\\anand\\AppData\\Local\\Programs\\Python\\Python39\\lib\\site-packages\\librosa\\util\\decorators.py:88: UserWarning: n_fft=1048 is too small for input signal of length=508\n",
      "  return f(*args, **kwargs)\n"
     ]
    },
    {
     "name": "stdout",
     "output_type": "stream",
     "text": [
      "0.0\n",
      "-0.06855121\n",
      "0.03211795\n",
      "-0.008925563\n",
      "0.07252144\n",
      "-0.027872056\n",
      "0.21878338\n",
      "-0.01103935\n",
      "0.098898895\n",
      "0.0\n"
     ]
    },
    {
     "name": "stderr",
     "output_type": "stream",
     "text": [
      "C:\\Users\\anand\\AppData\\Local\\Programs\\Python\\Python39\\lib\\site-packages\\librosa\\util\\decorators.py:88: UserWarning: n_fft=2048 is too small for input signal of length=508\n",
      "  return f(*args, **kwargs)\n",
      "C:\\Users\\anand\\AppData\\Local\\Programs\\Python\\Python39\\lib\\site-packages\\librosa\\util\\decorators.py:88: UserWarning: n_fft=1048 is too small for input signal of length=530\n",
      "  return f(*args, **kwargs)\n",
      "C:\\Users\\anand\\AppData\\Local\\Programs\\Python\\Python39\\lib\\site-packages\\librosa\\util\\decorators.py:88: UserWarning: n_fft=2048 is too small for input signal of length=530\n",
      "  return f(*args, **kwargs)\n",
      "C:\\Users\\anand\\AppData\\Local\\Programs\\Python\\Python39\\lib\\site-packages\\librosa\\util\\decorators.py:88: UserWarning: n_fft=1048 is too small for input signal of length=530\n",
      "  return f(*args, **kwargs)\n",
      "C:\\Users\\anand\\AppData\\Local\\Programs\\Python\\Python39\\lib\\site-packages\\librosa\\util\\decorators.py:88: UserWarning: n_fft=2048 is too small for input signal of length=530\n",
      "  return f(*args, **kwargs)\n",
      "C:\\Users\\anand\\AppData\\Local\\Programs\\Python\\Python39\\lib\\site-packages\\librosa\\util\\decorators.py:88: UserWarning: n_fft=1048 is too small for input signal of length=530\n",
      "  return f(*args, **kwargs)\n",
      "C:\\Users\\anand\\AppData\\Local\\Programs\\Python\\Python39\\lib\\site-packages\\librosa\\util\\decorators.py:88: UserWarning: n_fft=2048 is too small for input signal of length=530\n",
      "  return f(*args, **kwargs)\n",
      "C:\\Users\\anand\\AppData\\Local\\Programs\\Python\\Python39\\lib\\site-packages\\librosa\\util\\decorators.py:88: UserWarning: n_fft=1048 is too small for input signal of length=530\n",
      "  return f(*args, **kwargs)\n",
      "C:\\Users\\anand\\AppData\\Local\\Programs\\Python\\Python39\\lib\\site-packages\\librosa\\util\\decorators.py:88: UserWarning: n_fft=2048 is too small for input signal of length=530\n",
      "  return f(*args, **kwargs)\n",
      "C:\\Users\\anand\\AppData\\Local\\Programs\\Python\\Python39\\lib\\site-packages\\librosa\\util\\decorators.py:88: UserWarning: n_fft=1048 is too small for input signal of length=508\n",
      "  return f(*args, **kwargs)\n"
     ]
    },
    {
     "name": "stdout",
     "output_type": "stream",
     "text": [
      "0.07150282\n",
      "-0.004942801\n",
      "0.054124646\n",
      "-0.008745486\n",
      "0.024523245\n",
      "-0.02442771\n",
      "0.030501004\n",
      "-0.04597347\n",
      "0.022753874\n",
      "-0.017911335\n"
     ]
    },
    {
     "name": "stderr",
     "output_type": "stream",
     "text": [
      "C:\\Users\\anand\\AppData\\Local\\Programs\\Python\\Python39\\lib\\site-packages\\librosa\\util\\decorators.py:88: UserWarning: n_fft=2048 is too small for input signal of length=508\n",
      "  return f(*args, **kwargs)\n",
      "C:\\Users\\anand\\AppData\\Local\\Programs\\Python\\Python39\\lib\\site-packages\\librosa\\util\\decorators.py:88: UserWarning: n_fft=1048 is too small for input signal of length=508\n",
      "  return f(*args, **kwargs)\n",
      "C:\\Users\\anand\\AppData\\Local\\Programs\\Python\\Python39\\lib\\site-packages\\librosa\\util\\decorators.py:88: UserWarning: n_fft=2048 is too small for input signal of length=508\n",
      "  return f(*args, **kwargs)\n",
      "C:\\Users\\anand\\AppData\\Local\\Programs\\Python\\Python39\\lib\\site-packages\\librosa\\util\\decorators.py:88: UserWarning: n_fft=1048 is too small for input signal of length=530\n",
      "  return f(*args, **kwargs)\n",
      "C:\\Users\\anand\\AppData\\Local\\Programs\\Python\\Python39\\lib\\site-packages\\librosa\\util\\decorators.py:88: UserWarning: n_fft=2048 is too small for input signal of length=530\n",
      "  return f(*args, **kwargs)\n",
      "C:\\Users\\anand\\AppData\\Local\\Programs\\Python\\Python39\\lib\\site-packages\\librosa\\util\\decorators.py:88: UserWarning: n_fft=1048 is too small for input signal of length=508\n",
      "  return f(*args, **kwargs)\n",
      "C:\\Users\\anand\\AppData\\Local\\Programs\\Python\\Python39\\lib\\site-packages\\librosa\\util\\decorators.py:88: UserWarning: n_fft=2048 is too small for input signal of length=508\n",
      "  return f(*args, **kwargs)\n",
      "C:\\Users\\anand\\AppData\\Local\\Programs\\Python\\Python39\\lib\\site-packages\\librosa\\util\\decorators.py:88: UserWarning: n_fft=1048 is too small for input signal of length=530\n",
      "  return f(*args, **kwargs)\n"
     ]
    },
    {
     "name": "stdout",
     "output_type": "stream",
     "text": [
      "0.16269056\n",
      "-0.12781465\n",
      "0.026466338\n",
      "-0.03552034\n",
      "0.15377553\n",
      "-0.07464457\n"
     ]
    },
    {
     "name": "stderr",
     "output_type": "stream",
     "text": [
      "C:\\Users\\anand\\AppData\\Local\\Programs\\Python\\Python39\\lib\\site-packages\\librosa\\util\\decorators.py:88: UserWarning: n_fft=2048 is too small for input signal of length=530\n",
      "  return f(*args, **kwargs)\n",
      "C:\\Users\\anand\\AppData\\Local\\Programs\\Python\\Python39\\lib\\site-packages\\librosa\\util\\decorators.py:88: UserWarning: n_fft=1048 is too small for input signal of length=508\n",
      "  return f(*args, **kwargs)\n",
      "C:\\Users\\anand\\AppData\\Local\\Programs\\Python\\Python39\\lib\\site-packages\\librosa\\util\\decorators.py:88: UserWarning: n_fft=2048 is too small for input signal of length=508\n",
      "  return f(*args, **kwargs)\n"
     ]
    }
   ],
   "source": [
    "combined_list_L=[]\n",
    "combined_list_M=[]\n",
    "col_names=['File_name','Channel','Sample_width','Frame_rate','Frame_width','Duration (ms)','Frame_count','Intensity',\n",
    "            'Energy','Zero_crossing_rate','Root Mean Square','Spectral Centroid','Spectral Bandwidth', 'MFCC','Max_frequency','Min_frequency']\n",
    "\n",
    "\n",
    "for file in audio_data:\n",
    "    \n",
    "    file_path='Data/'+file\n",
    "\n",
    "    file1=pd.read_csv('welding_cut_time.csv')\n",
    "    file1=file1.to_numpy()\n",
    "\n",
    "    for i in range(file1.shape[0]):\n",
    "        if file==file1[i][0]:\n",
    "            t1=file1[i][1]\n",
    "            t2=file1[i][2]\n",
    "\n",
    "            newAudio_00 = AudioSegment.from_wav(file_path)\n",
    "            newAudio_01 = newAudio_00[0:math.ceil(t1)]\n",
    "            newAudio_02 = newAudio_00[math.ceil(t1)+1:math.ceil(t2)]\n",
    "\n",
    "            newAudio_01.export('split_data/new_data_'+str(i)+'_L.wav', format=\"wav\")\n",
    "            newAudio_02.export('split_data/new_data_'+str(i)+'_M.wav', format=\"wav\")\n",
    "\n",
    "            split_data_01='split_data/new_data_'+str(i)+'_L.wav'\n",
    "            #finding features of L shape\n",
    "            feature_list_L=generic_features(split_data_01)\n",
    "\n",
    "            y,sr=l.load(split_data_01)\n",
    "            feature_list_L.append(energy(y))\n",
    "            \n",
    "            zcr=l.feature.zero_crossing_rate(y=y,frame_length=frame_size,hop_length=hop_length)[0]\n",
    "            feature_list_L.append(np.mean(zcr))\n",
    "            \n",
    "            rms=l.feature.rms(y=y,frame_length=frame_size,hop_length=hop_length)[0]\n",
    "            feature_list_L.append(np.mean(rms))\n",
    "            \n",
    "            sc=l.feature.spectral_centroid(y=y, sr=sr,n_fft=frame_size,hop_length=hop_length)[0]\n",
    "            feature_list_L.append(np.mean(sc))\n",
    "\n",
    "            sb=l.feature.spectral_bandwidth(y=y, sr=sr,n_fft=frame_size,hop_length=hop_length)[0] \n",
    "            feature_list_L.append(np.mean(sb))\n",
    "\n",
    "            mfcc=l.feature.mfcc(y=y,sr=sr)\n",
    "            feature_list_L.append(np.mean(mfcc))\n",
    "\n",
    "            max_frequency=max(y)\n",
    "            print(max_frequency)\n",
    "            feature_list_L.append(max_frequency)\n",
    "\n",
    "            min_frequency=min(y)\n",
    "            print(min_frequency)\n",
    "            feature_list_L.append(min_frequency)\n",
    "\n",
    "            feature_list_L.insert(0,file)\n",
    "            combined_list_L.append(feature_list_L)\n",
    "            \n",
    "\n",
    "            split_data_02='split_data/new_data_'+str(i)+'_M.wav'\n",
    "            feature_list_M=generic_features(split_data_02)\n",
    "\n",
    "            y1,sr1=l.load(split_data_01)\n",
    "            feature_list_M.append(energy(y1))\n",
    "            \n",
    "            zcr=l.feature.zero_crossing_rate(y=y1,frame_length=frame_size,hop_length=hop_length)[0]\n",
    "            feature_list_M.append(np.mean(zcr))\n",
    "            \n",
    "            rms=l.feature.rms(y=y1,frame_length=frame_size,hop_length=hop_length)[0]\n",
    "            feature_list_M.append(np.mean(rms))\n",
    "            \n",
    "            sc=l.feature.spectral_centroid(y=y1, sr=sr1,n_fft=frame_size,hop_length=hop_length)[0]\n",
    "            feature_list_M.append(np.mean(sc))\n",
    "\n",
    "            sb=l.feature.spectral_bandwidth(y=y1, sr=sr1,n_fft=frame_size,hop_length=hop_length)[0] \n",
    "            feature_list_M.append(np.mean(sb))\n",
    "\n",
    "            mfcc=l.feature.mfcc(y=y1,sr=sr1)\n",
    "            feature_list_M.append(np.mean(mfcc))\n",
    "\n",
    "            max_frequency=max(y1)\n",
    "            feature_list_M.append(max_frequency)\n",
    "\n",
    "            min_frequency=min(y1)\n",
    "            feature_list_M.append(min_frequency)\n",
    "\n",
    "            feature_list_M.insert(0,file)\n",
    "            combined_list_M.append(feature_list_M)    \n",
    "            break    \n",
    "   "
   ]
  },
  {
   "cell_type": "code",
   "execution_count": 64,
   "metadata": {},
   "outputs": [],
   "source": [
    "with open('CSV/feature_L.csv','w') as f:\n",
    "    writer = csv.writer(f)\n",
    "    writer.writerow(col_names)\n",
    "    writer.writerows(combined_list_L)"
   ]
  },
  {
   "cell_type": "code",
   "execution_count": 65,
   "metadata": {},
   "outputs": [],
   "source": [
    "with open('CSV/feature_M.csv','w') as f:\n",
    "    writer = csv.writer(f)\n",
    "    writer.writerow(col_names)\n",
    "    writer.writerows(combined_list_M)"
   ]
  },
  {
   "cell_type": "code",
   "execution_count": null,
   "metadata": {},
   "outputs": [],
   "source": []
  },
  {
   "cell_type": "code",
   "execution_count": 13,
   "metadata": {},
   "outputs": [
    {
     "data": {
      "text/plain": [
       "<_io.BufferedRandom name='split_data/new_data_02.wav'>"
      ]
     },
     "execution_count": 13,
     "metadata": {},
     "output_type": "execute_result"
    }
   ],
   "source": [
    "t1=26\n",
    "t2=82\n",
    "audio_data='Data/0_1_2021_06_17_090407_Sound_Pa_SF0000002,0000.wav'\n",
    "\n",
    "newAudio_00 = AudioSegment.from_wav(audio_data)\n",
    "newAudio_01 = newAudio_00[0:t1]\n",
    "newAudio_02 = newAudio_00[t1+1:t2]\n",
    "\n",
    "newAudio_01.export('split_data/new_data_01.wav', format=\"wav\")\n",
    "newAudio_02.export('split_data/new_data_02.wav', format=\"wav\")\n"
   ]
  },
  {
   "cell_type": "code",
   "execution_count": 14,
   "metadata": {},
   "outputs": [],
   "source": [
    "split_data_01='split_data/new_data_01.wav'\n",
    "split_data_02='split_data/new_data_02.wav'"
   ]
  },
  {
   "cell_type": "code",
   "execution_count": 15,
   "metadata": {},
   "outputs": [
    {
     "name": "stdout",
     "output_type": "stream",
     "text": [
      "[1, 2, 100000, 2, 26, 2600.0, -16.97115447786363]\n",
      "[1, 2, 100000, 2, 55, 5500.0, -29.125306346566934]\n"
     ]
    }
   ],
   "source": [
    "y1,sr1=l.load(split_data_01)\n",
    "y2,sr2=l.load(split_data_02)\n",
    "\n",
    "F1=generic_features(split_data_01)\n",
    "F2=generic_features(split_data_02)\n",
    "print(F1)\n",
    "print(F2)"
   ]
  },
  {
   "cell_type": "code",
   "execution_count": 36,
   "metadata": {},
   "outputs": [
    {
     "name": "stdout",
     "output_type": "stream",
     "text": [
      "0.19365251 0.0\n",
      "[]\n"
     ]
    },
    {
     "ename": "IndexError",
     "evalue": "arrays used as indices must be of integer (or boolean) type",
     "output_type": "error",
     "traceback": [
      "\u001b[1;31m---------------------------------------------------------------------------\u001b[0m",
      "\u001b[1;31mIndexError\u001b[0m                                Traceback (most recent call last)",
      "\u001b[1;32me:\\RnD\\SS2022\\R_n_D\\R-n-D-project\\testing_features.ipynb Cell 13'\u001b[0m in \u001b[0;36m<cell line: 14>\u001b[1;34m()\u001b[0m\n\u001b[0;32m     <a href='vscode-notebook-cell:/e%3A/RnD/SS2022/R_n_D/R-n-D-project/testing_features.ipynb#ch0000016?line=11'>12</a>\u001b[0m plt\u001b[39m.\u001b[39mfigure(figsize\u001b[39m=\u001b[39m(\u001b[39m10\u001b[39m, \u001b[39m2\u001b[39m))\n\u001b[0;32m     <a href='vscode-notebook-cell:/e%3A/RnD/SS2022/R_n_D/R-n-D-project/testing_features.ipynb#ch0000016?line=12'>13</a>\u001b[0m plt\u001b[39m.\u001b[39mplot(t, y1, color\u001b[39m=\u001b[39m\u001b[39m'\u001b[39m\u001b[39mgray\u001b[39m\u001b[39m'\u001b[39m)\n\u001b[1;32m---> <a href='vscode-notebook-cell:/e%3A/RnD/SS2022/R_n_D/R-n-D-project/testing_features.ipynb#ch0000016?line=13'>14</a>\u001b[0m plt\u001b[39m.\u001b[39mplot(t[peaks],y1[peaks], \u001b[39m'\u001b[39m\u001b[39mro\u001b[39m\u001b[39m'\u001b[39m)\n\u001b[0;32m     <a href='vscode-notebook-cell:/e%3A/RnD/SS2022/R_n_D/R-n-D-project/testing_features.ipynb#ch0000016?line=14'>15</a>\u001b[0m plt\u001b[39m.\u001b[39mxlabel(\u001b[39m'\u001b[39m\u001b[39mTime (seconds)\u001b[39m\u001b[39m'\u001b[39m)\n\u001b[0;32m     <a href='vscode-notebook-cell:/e%3A/RnD/SS2022/R_n_D/R-n-D-project/testing_features.ipynb#ch0000016?line=15'>16</a>\u001b[0m plt\u001b[39m.\u001b[39mylabel(\u001b[39m'\u001b[39m\u001b[39mAmplitude\u001b[39m\u001b[39m'\u001b[39m)\n",
      "\u001b[1;31mIndexError\u001b[0m: arrays used as indices must be of integer (or boolean) type"
     ]
    },
    {
     "data": {
      "image/png": "[encoded data removed]",
      "text/plain": [
       "<Figure size 720x144 with 1 Axes>"
      ]
     },
     "metadata": {
      "needs_background": "light"
     },
     "output_type": "display_data"
    }
   ],
   "source": [
    "# time_start = 0.66\n",
    "# time_end = 0.71\n",
    "# index_start = int(np.round(Fs*time_start))\n",
    "# index_end = int(np.round(Fs*time_end))\n",
    "# x_crop = x[index_start:index_end]\n",
    "# t_crop = t[index_start:index_end]\n",
    "t = np.arange(y1.shape[0]) / sr1\n",
    "print(max(y1),min(y1))\n",
    "peaks = l.util.peak_pick(y1, pre_max=25, post_max=25, pre_avg=25, post_avg=25, delta=0.1, wait=10)\n",
    "print(peaks)\n",
    "\n",
    "plt.figure(figsize=(10, 2))\n",
    "plt.plot(t, y1, color='gray')\n",
    "plt.plot(t[peaks],y1[peaks], 'ro')\n",
    "plt.xlabel('Time (seconds)')\n",
    "plt.ylabel('Amplitude')\n",
    "plt.xlim([t[0], t[-1]])\n",
    "plt.ylim([-0.51, 0.51])\n",
    "plt.tick_params(direction='in')\n",
    "plt.tight_layout()"
   ]
  },
  {
   "cell_type": "code",
   "execution_count": 37,
   "metadata": {},
   "outputs": [
    {
     "name": "stdout",
     "output_type": "stream",
     "text": [
      "0.092189096 -0.02987833\n",
      "[]\n"
     ]
    },
    {
     "ename": "IndexError",
     "evalue": "arrays used as indices must be of integer (or boolean) type",
     "output_type": "error",
     "traceback": [
      "\u001b[1;31m---------------------------------------------------------------------------\u001b[0m",
      "\u001b[1;31mIndexError\u001b[0m                                Traceback (most recent call last)",
      "\u001b[1;32me:\\RnD\\SS2022\\R_n_D\\R-n-D-project\\testing_features.ipynb Cell 14'\u001b[0m in \u001b[0;36m<cell line: 8>\u001b[1;34m()\u001b[0m\n\u001b[0;32m      <a href='vscode-notebook-cell:/e%3A/RnD/SS2022/R_n_D/R-n-D-project/testing_features.ipynb#ch0000017?line=5'>6</a>\u001b[0m plt\u001b[39m.\u001b[39mfigure(figsize\u001b[39m=\u001b[39m(\u001b[39m10\u001b[39m, \u001b[39m2\u001b[39m))\n\u001b[0;32m      <a href='vscode-notebook-cell:/e%3A/RnD/SS2022/R_n_D/R-n-D-project/testing_features.ipynb#ch0000017?line=6'>7</a>\u001b[0m plt\u001b[39m.\u001b[39mplot(t2, y2, color\u001b[39m=\u001b[39m\u001b[39m'\u001b[39m\u001b[39mgray\u001b[39m\u001b[39m'\u001b[39m)\n\u001b[1;32m----> <a href='vscode-notebook-cell:/e%3A/RnD/SS2022/R_n_D/R-n-D-project/testing_features.ipynb#ch0000017?line=7'>8</a>\u001b[0m plt\u001b[39m.\u001b[39mplot(t2[peaks],y2[peaks], \u001b[39m'\u001b[39m\u001b[39mro\u001b[39m\u001b[39m'\u001b[39m)\n\u001b[0;32m      <a href='vscode-notebook-cell:/e%3A/RnD/SS2022/R_n_D/R-n-D-project/testing_features.ipynb#ch0000017?line=8'>9</a>\u001b[0m plt\u001b[39m.\u001b[39mxlabel(\u001b[39m'\u001b[39m\u001b[39mTime (seconds)\u001b[39m\u001b[39m'\u001b[39m)\n\u001b[0;32m     <a href='vscode-notebook-cell:/e%3A/RnD/SS2022/R_n_D/R-n-D-project/testing_features.ipynb#ch0000017?line=9'>10</a>\u001b[0m plt\u001b[39m.\u001b[39mylabel(\u001b[39m'\u001b[39m\u001b[39mAmplitude\u001b[39m\u001b[39m'\u001b[39m)\n",
      "\u001b[1;31mIndexError\u001b[0m: arrays used as indices must be of integer (or boolean) type"
     ]
    },
    {
     "data": {
      "image/png": "[encoded data removed]",
      "text/plain": [
       "<Figure size 720x144 with 1 Axes>"
      ]
     },
     "metadata": {
      "needs_background": "light"
     },
     "output_type": "display_data"
    }
   ],
   "source": [
    "t2 = np.arange(y2.shape[0]) / sr1\n",
    "print(max(y2),min(y2))\n",
    "peaks = l.util.peak_pick(y2, pre_max=25, post_max=25, pre_avg=25, post_avg=25, delta=0.1, wait=10)\n",
    "print(peaks)\n",
    "\n",
    "plt.figure(figsize=(10, 2))\n",
    "plt.plot(t2, y2, color='gray')\n",
    "plt.plot(t2[peaks],y2[peaks], 'ro')\n",
    "plt.xlabel('Time (seconds)')\n",
    "plt.ylabel('Amplitude')\n",
    "plt.xlim([t2[0], t2[-1]])\n",
    "plt.ylim([-0.51, 0.51])\n",
    "plt.tick_params(direction='in')\n",
    "plt.tight_layout()"
   ]
  },
  {
   "cell_type": "code",
   "execution_count": null,
   "metadata": {},
   "outputs": [
    {
     "name": "stdout",
     "output_type": "stream",
     "text": [
      "0.020308290209089006\n",
      "0.0012376029336147827\n"
     ]
    }
   ],
   "source": [
    "def energy(signal):\n",
    "    \"\"\"Computes signal energy of frame\"\"\"\n",
    "    return np.sum(signal ** 2) / np.float64(len(signal))\n",
    "\n",
    "\n",
    "print(energy(y1))\n",
    "print(energy(y2))"
   ]
  },
  {
   "cell_type": "code",
   "execution_count": null,
   "metadata": {},
   "outputs": [
    {
     "name": "stdout",
     "output_type": "stream",
     "text": [
      "82 3\n",
      "0_1_2021_06_17_090407_Sound_Pa_SF0000002,0000.wav\n",
      "25.48\n",
      "80.81\n",
      "0_2_2021_06_17_091517_Sound_Pa_SF0000002,0000.wav\n",
      "25.2\n",
      "80.56\n"
     ]
    }
   ],
   "source": [
    "file1=pd.read_csv('welding_cut_time.csv')\n",
    "file1=file1.to_numpy()\n",
    "#print(file1)\n",
    "print(file1.shape[0],file1.shape[1])\n",
    "for i in range(0,2):\n",
    "    for j in range(file1.shape[1]):\n",
    "        print(file1[i][j])\n",
    "\n"
   ]
  },
  {
   "cell_type": "code",
   "execution_count": null,
   "metadata": {},
   "outputs": [],
   "source": []
  }
 ],
 "metadata": {
  "interpreter": {
   "hash": "85cb5057302a191b2061ff39747e3b9c34b3528f454435c39db1fb97a1dd2df0"
  },
  "kernelspec": {
   "display_name": "Python 3.9.10 64-bit",
   "language": "python",
   "name": "python3"
  },
  "language_info": {
   "codemirror_mode": {
    "name": "ipython",
    "version": 3
   },
   "file_extension": ".py",
   "mimetype": "text/x-python",
   "name": "python",
   "nbconvert_exporter": "python",
   "pygments_lexer": "ipython3",
   "version": "3.9.10"
  },
  "orig_nbformat": 4
 },
 "nbformat": 4,
 "nbformat_minor": 2
}
